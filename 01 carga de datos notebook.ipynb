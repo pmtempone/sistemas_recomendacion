{
 "cells": [
  {
   "cell_type": "code",
   "execution_count": 27,
   "metadata": {
    "collapsed": true
   },
   "outputs": [],
   "source": [
    "%matplotlib inline\n",
    "\n",
    "import pandas as pd\n",
    "import psycopg2\n",
    "import matplotlib as mp\n",
    "import matplotlib.pyplot as plt\n",
    "import re\n",
    "import numpy as np\n",
    "from sklearn import linear_model"
   ]
  },
  {
   "cell_type": "code",
   "execution_count": 18,
   "metadata": {},
   "outputs": [],
   "source": [
    "train = pd.read_csv(\"/Users/pablotempone/Google Drive/Maestria/Sistemas de Recomendacion/movilens800k/ratings_train.csv\",sep = ',')\n",
    "\n",
    "movie_actors = pd.read_csv(\"/Users/pablotempone/Google Drive/Maestria/Sistemas de Recomendacion/movilens800k/movie_actors.csv\",sep = ',')\n",
    "movie_countries = pd.read_csv(\"/Users/pablotempone/Google Drive/Maestria/Sistemas de Recomendacion/movilens800k/movie_countries.csv\",sep = ',')\n",
    "movie_directors = pd.read_csv(\"/Users/pablotempone/Google Drive/Maestria/Sistemas de Recomendacion/movilens800k/movie_directors.csv\",sep = ',')\n",
    "movie_genres = pd.read_csv(\"/Users/pablotempone/Google Drive/Maestria/Sistemas de Recomendacion/movilens800k/movie_genres.csv\",sep = ',')\n",
    "movie_imdb = pd.read_csv(\"/Users/pablotempone/Google Drive/Maestria/Sistemas de Recomendacion/movilens800k/movie_imdb.csv\",sep = ',')\n",
    "movie_locations = pd.read_csv(\"/Users/pablotempone/Google Drive/Maestria/Sistemas de Recomendacion/movilens800k/movie_locations.csv\",sep = ',')\n",
    "test = pd.read_csv(\"/Users/pablotempone/Google Drive/Maestria/Sistemas de Recomendacion/movilens800k/Copia de ratings_test.csv\",sep = ',')"
   ]
  },
  {
   "cell_type": "code",
   "execution_count": null,
   "metadata": {},
   "outputs": [],
   "source": [
    "train_merge = pd.merge(train,movie_countries,how='left',left_on='movieID',right_on='movieID')\n",
    "train_merge = pd.merge(train_merge,movie_directors,how='left',left_on='movieID',right_on='movieID')\n",
    "\n",
    "train_merge = train_merge.drop('directorID',axis = 1)\n",
    "\n",
    "\n",
    "test_merge = pd.merge(test,movie_countries,how='left',left_on='movieID',right_on='movieID')\n",
    "test_merge = pd.merge(test_merge,movie_directors,how='left',left_on='movieID',right_on='movieID')\n",
    "\n",
    "test_merge = test_merge.drop('directorID',axis = 1)\n",
    "\n",
    "total = train_merge.append(test_merge)\n",
    "\n",
    "total = pd.get_dummies(total)\n",
    "\n",
    "\n",
    "train_merge = pd.get_dummies(train_merge)"
   ]
  },
  {
   "cell_type": "code",
   "execution_count": 23,
   "metadata": {},
   "outputs": [],
   "source": [
    "test_merge = pd.merge(test,movie_countries,how='left',left_on='movieID',right_on='movieID')"
   ]
  },
  {
   "cell_type": "code",
   "execution_count": 24,
   "metadata": {},
   "outputs": [],
   "source": [
    "test_merge = pd.merge(test_merge,movie_directors,how='left',left_on='movieID',right_on='movieID')"
   ]
  },
  {
   "cell_type": "code",
   "execution_count": 25,
   "metadata": {},
   "outputs": [],
   "source": [
    "test_merge = test_merge.drop('directorID',axis = 1)\n",
    "\n",
    "test_merge = pd.get_dummies(test_merge)"
   ]
  },
  {
   "cell_type": "code",
   "execution_count": 28,
   "metadata": {},
   "outputs": [
    {
     "data": {
      "text/plain": [
       "(array([  12162.,   19336.,   16546.,   51495.,   56110.,  140146.,\n         135626.,  194499.,   79722.,   64447.]),\n array([ 0.5 ,  0.95,  1.4 ,  1.85,  2.3 ,  2.75,  3.2 ,  3.65,  4.1 ,\n         4.55,  5.  ]),\n <a list of 10 Patch objects>)"
      ]
     },
     "execution_count": 28,
     "metadata": {},
     "output_type": "execute_result"
    },
    {
     "data": {
      "image/png": "[encoded data removed]",
      "text/plain": [
       "<matplotlib.figure.Figure at 0x11a152860>"
      ]
     },
     "metadata": {},
     "output_type": "display_data"
    }
   ],
   "source": [
    "plt.hist(train['rating'], bins=10)"
   ]
  },
  {
   "cell_type": "code",
   "execution_count": 31,
   "metadata": {},
   "outputs": [],
   "source": [
    "#ridge regression\n",
    "\n",
    "reg = linear_model.RidgeCV(alphas=[0.1, 1.0,2.0,5.0,7.0,10.0])\n",
    "\n",
    "#partir en train y test\n",
    "from sklearn.model_selection import train_test_split\n",
    "\n",
    "\n",
    "train_total, test_total = total[0:770088], total[770089:8555598]\n",
    "\n",
    "del train_merge\n",
    "\n",
    "train_df, test_df = train_test_split(train_total, test_size = 0.1)\n",
    "\n",
    "del train_total\n",
    "\n",
    "y = train_df.rating\n",
    "x = train_df.drop('rating',axis = 1)\n",
    "\n",
    "\n",
    "y_test = test_df.rating\n",
    "x_test = test_df.drop('rating',axis = 1)\n",
    "\n",
    "del train_df,test_df\n",
    "del test_merge\n",
    "del train,movie_actors,test,movie_locations\n",
    "del total"
   ]
  },
  {
   "cell_type": "code",
   "execution_count": 32,
   "metadata": {},
   "outputs": [],
   "source": [
    "reg.fit(x,y)\n",
    "\n",
    "reg.coef_\n",
    "\n",
    "reg.alpha_ \n",
    "\n",
    "prediccion = round(reg.predict(x_test),1)"
   ]
  }
 ],
 "metadata": {
  "kernelspec": {
   "display_name": "Python 2",
   "language": "python",
   "name": "python2"
  },
  "language_info": {
   "codemirror_mode": {
    "name": "ipython",
    "version": 2.0
   },
   "file_extension": ".py",
   "mimetype": "text/x-python",
   "name": "python",
   "nbconvert_exporter": "python",
   "pygments_lexer": "ipython2",
   "version": "2.7.6"
  }
 },
 "nbformat": 4,
 "nbformat_minor": 0
}